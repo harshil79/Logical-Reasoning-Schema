{
 "cells": [
  {
   "cell_type": "code",
   "execution_count": 1,
   "metadata": {},
   "outputs": [],
   "source": [
    "import clingo\n",
    "import re"
   ]
  },
  {
   "cell_type": "code",
   "execution_count": 2,
   "metadata": {},
   "outputs": [],
   "source": [
    "def copy_file_content(original_file, new_file):\n",
    "    with open(original_file, 'r') as src:\n",
    "        content = src.read()\n",
    "    with open(new_file, 'w') as dst:\n",
    "        dst.write(content)"
   ]
  },
  {
   "cell_type": "code",
   "execution_count": 3,
   "metadata": {},
   "outputs": [],
   "source": [
    "# def filter(output_file):\n",
    "#     with open(output_file, 'r') as output:\n",
    "#         lines = output.readlines()\n",
    "#         processed_lines = []\n",
    "\n",
    "#         for line in lines:\n",
    "#             line = line.strip()\n",
    "\n",
    "#             # Remove incomplete lines that start with specific keywords and do not end with \")\"\n",
    "#             if (line.startswith(('neg', 'pos', 'relation')) and not line.endswith(')')):\n",
    "#                 continue\n",
    "\n",
    "#             # Add a full stop to lines that do not start with specific keywords\n",
    "#             if not line.startswith(('neg', 'pos', 'relation')) and not line.endswith('.'):\n",
    "#                 line += '.'\n",
    "\n",
    "#             # Connect all space-separated words with underscores using regex\n",
    "#             line = re.sub(r'(\\w+) (\\w+)', r'\\1_\\2', line)\n",
    "\n",
    "#             processed_lines.append(line)\n",
    "\n",
    "#     with open(output_file, 'w') as output:\n",
    "#         output.write('\\n'.join(processed_lines))"
   ]
  },
  {
   "cell_type": "code",
   "execution_count": 4,
   "metadata": {},
   "outputs": [],
   "source": [
    "# def num_to_words(match):\n",
    "#     num_word_dict = {'0': 'zero', '1': 'one', '2': 'two', '3': 'three', '4': 'four', '5': 'five', \n",
    "#                      '6': 'six', '7': 'seven', '8': 'eight', '9': 'nine', '10': 'ten', \n",
    "#                      '15': 'fifteen', '10': 'ten'}\n",
    "#     return num_word_dict.get(match.group(), match.group())\n",
    "\n",
    "# def filter(output_file):\n",
    "#     with open(output_file, 'r') as output:\n",
    "#         lines = output.readlines()\n",
    "#     processed_lines = []\n",
    "\n",
    "#     for line in lines:\n",
    "#         line = line.strip()\n",
    "\n",
    "#         # Skip lines that start with \"section\", \".\", \"*\", or \"`\"\n",
    "#         if line.startswith((\"section\", \".\", \"*\", \"`\", \"%\")):\n",
    "#             continue\n",
    "#         # Remove special characters\n",
    "#         line = re.sub(r'[\\$\\é]', '', line)\n",
    "#         # Convert numbers to words\n",
    "#         line = re.sub(r'\\b(?:0|1|2|3|4|5|6|7|8|9|10|15)\\b', num_to_words, line)\n",
    "#         # Convert uppercase to lowercase\n",
    "#         line = line.lower()\n",
    "#         # Remove dots between words\n",
    "#         line = re.sub(r'(?<=\\w)\\.(?=\\w)', '', line)\n",
    "        \n",
    "#         # # Remove incomplete sentences\n",
    "#         # if not line.endswith(')'):\n",
    "#         #     continue\n",
    "        \n",
    "#         # Add \".\" where necessary\n",
    "#         if line.startswith(('neg', 'pos', 'relation')) and not line.endswith('.'):\n",
    "#             line += '.'\n",
    "#         elif not line.startswith(('neg', 'pos', 'relation')) and not line.endswith('.'):\n",
    "#             line += '.'\n",
    "\n",
    "#         processed_lines.append(line)\n",
    "\n",
    "#     with open(output_file, 'w') as output:\n",
    "#         output.write('\\n'.join(processed_lines))\n"
   ]
  },
  {
   "cell_type": "code",
   "execution_count": 28,
   "metadata": {},
   "outputs": [],
   "source": [
    "def convert_number_to_words(s):\n",
    "    num_words = {\n",
    "        '0': 'zero', '1': 'one', '2': 'two', '3': 'three', '4': 'four',\n",
    "        '5': 'five', '6': 'six', '7': 'seven', '8': 'eight', '9': 'nine'\n",
    "    }\n",
    "    # Replace each digit individually\n",
    "    return ''.join(num_words.get(char, char) for char in s)\n",
    "\n",
    "def replace_spaces_with_underscores_in_identifiers(s):\n",
    "    # Precompile regular expression patterns for performance\n",
    "    pattern_identifier = re.compile(r'\\b([a-z_][a-z0-9_]*)\\s+([a-z0-9_]+)\\b', re.IGNORECASE)\n",
    "    \n",
    "    # Replace spaces between words that are likely part of an identifier with underscores\n",
    "    def repl(m):\n",
    "        return m.group(1) + '_' + m.group(2)\n",
    "\n",
    "    # Apply the replacement repeatedly until no further replacements are made\n",
    "    while True:\n",
    "        s_new = pattern_identifier.sub(repl, s)\n",
    "        if s_new == s:\n",
    "            break\n",
    "        s = s_new\n",
    "\n",
    "    return s\n",
    "\n",
    "def remove_unnecessary_characters(s):\n",
    "    # First, remove specified unnecessary characters, keeping the dash to handle it separately\n",
    "    s = re.sub(r'[\\'`*<>~%$‘’\"/]', '', s)\n",
    "    # Replace \"-\" with \"_\", but avoid replacing it within \" :- \"\n",
    "    # This uses a negative lookbehind and lookahead to ensure we don't replace dashes in \" :- \"\n",
    "    s = re.sub(r'(?<!:)-', '_', s)  # Replace \"-\" with \"_\" if \"-\" is not immediately preceded by \":\"\n",
    "    s = re.sub(r'-(?! )', '_', s)  # Replace \"-\" with \"_\" if \"-\" is not immediately followed by a space, handling the case after \":-\"\n",
    "    \n",
    "    return s\n",
    "\n",
    "def remove_all_but_final_period(line):\n",
    "    # Temporarily replace \":-\" with a placeholder\n",
    "    placeholder = \"TEMP_COLON_HYPHEN\"\n",
    "    line = line.replace(':-', placeholder)\n",
    "\n",
    "    # Remove all periods except the final one if it exists\n",
    "    parts = line.rsplit('.', 1)\n",
    "    if len(parts) == 2:\n",
    "        line = parts[0].replace('.', '') + '.' + parts[1]\n",
    "    else:\n",
    "        line = parts[0].replace('.', '')\n",
    "\n",
    "    # Restore \":-\"\n",
    "    line = line.replace(placeholder, ':-')\n",
    "    return line\n",
    "\n",
    "def filter_asp_code(asp_code):\n",
    "    filtered_lines = []\n",
    "    seen_lines = set()\n",
    "    allowed_prefixes_pattern = re.compile(r'\\b(neg|pos|relation)\\(')\n",
    "\n",
    "    for line in asp_code.split('\\n'):\n",
    "        # Add the processed line to the set of seen lines\n",
    "        seen_lines.add(line)\n",
    "        # Remove Non ASP code parts and special character\n",
    "        if re.match(r'^\\*\\*|```asp', line):\n",
    "            continue\n",
    "        # Remove lines not in ASP format\n",
    "        if not re.match(r'^[a-zA-Z0-9_].*', line):\n",
    "            continue\n",
    "        # Replace spaces with underscores in identifiers\n",
    "        line = replace_spaces_with_underscores_in_identifiers(line)\n",
    "        # remove lines with the word section in it\n",
    "        if \"section\" in line.lower():\n",
    "            continue\n",
    "        if not \".\" in line.lower():\n",
    "            continue\n",
    "        if not allowed_prefixes_pattern.search(line):  # Skip lines not matching the allowed patterns\n",
    "            continue\n",
    "        # # Delete incomplete sentences\n",
    "        # if not re.search(r'\\)$', line):\n",
    "        #     continue\n",
    "        # Add missing full stops\n",
    "        if not re.search(r'\\.$', line) and re.search(r'\\)$', line):\n",
    "            line += '.'\n",
    "        # Remove dots between words\n",
    "        line = re.sub(r'(?<=\\w)\\.(?=\\w)', '', line)\n",
    "        # Convert all numeric digits to their corresponding words\n",
    "        line = convert_number_to_words(line)\n",
    "        # remove special characters\n",
    "        line = remove_unnecessary_characters(line)\n",
    "        # Lowercase conversion while keeping ASP keywords or variables intact\n",
    "        line = re.sub(r'(?<![A-Z])([A-Z]+)(?![A-Z])', lambda x: x.group(1).lower(), line)\n",
    "        # Ensure only the final period is kept\n",
    "        line = remove_all_but_final_period(line)  \n",
    "        filtered_lines.append(line)\n",
    "    return '\\n'.join(filtered_lines)\n",
    "        \n",
    "\n",
    "def apply_filter_to_asp_code(asp_code_file, output_file):\n",
    "    with open(asp_code_file, 'r') as file:\n",
    "        asp_code = file.read()\n",
    "\n",
    "    filtered_code = filter_asp_code(asp_code)\n",
    "\n",
    "    with open(output_file, 'w') as file:\n",
    "        file.write(filtered_code)\n",
    "    \n",
    "    print(f\"Filtered ASP code has been written to {output_file}\")"
   ]
  },
  {
   "cell_type": "code",
   "execution_count": 6,
   "metadata": {},
   "outputs": [],
   "source": [
    "# def num_to_words(match):\n",
    "#     num_word_dict = {'0': 'zero', '1': 'one', '2': 'two', '3': 'three', '4': 'four', '5': 'five', \n",
    "#                      '6': 'six', '7': 'seven', '8': 'eight', '9': 'nine', '10': 'ten', \n",
    "#                      '15': 'fifteen'}\n",
    "#     return num_word_dict.get(match.group(), match.group())\n",
    "\n",
    "# def filter(output_file):\n",
    "#     with open(output_file, 'r') as output:\n",
    "#         lines = output.readlines()\n",
    "#     processed_lines = []\n",
    "\n",
    "#     for line in lines:\n",
    "#         line = line.strip()\n",
    "\n",
    "#         # Remove lines that are definitively incomplete\n",
    "#         if not line or line.startswith((\"section\", \".\", \"*\", \"`\", \"%\")):\n",
    "#             continue\n",
    "\n",
    "#         # Remove special characters\n",
    "#         line = re.sub(r'[\\$\\é]', '', line)\n",
    "\n",
    "#         # Ensure completeness for lines ending with specific structures\n",
    "#         # if not (line.endswith(').') or line.endswith(')') or (line.endswith('.') and (' :- ' in line or line.startswith(('neg', 'pos', 'relation'))))):\n",
    "#         #     continue\n",
    "\n",
    "#         # Remove special characters, convert numbers to words, lowercase letters, and remove in-word periods\n",
    "#         line = re.sub(r'[^\\w\\s.)]', '', line)  # Adjusted to keep periods and parentheses\n",
    "#         line = re.sub(r'\\b\\d+\\b', lambda x: num_to_words(x), line)\n",
    "#         line = line.lower()\n",
    "#         line = re.sub(r'(?<=\\w)\\.(?=\\w)', '', line)\n",
    "\n",
    "#         processed_lines.append(line)\n",
    "\n",
    "#     with open(output_file, 'w') as output:\n",
    "#         output.write('\\n'.join(processed_lines))"
   ]
  },
  {
   "cell_type": "code",
   "execution_count": 7,
   "metadata": {},
   "outputs": [],
   "source": [
    "def clingo_compiling_check(file):\n",
    "    # Clingo program\n",
    "    program = clingo.Control()\n",
    "    # Reading ASP code\n",
    "    with open(file, 'r') as f:\n",
    "        asp_code = f.read()\n",
    "    # Load ASP code\n",
    "    program.add('base', [], asp_code)\n",
    "    # Compiling and solving\n",
    "    try:\n",
    "        program.ground([(\"base\", [])])\n",
    "        program.solve()\n",
    "        return True\n",
    "    except Exception as e:\n",
    "        # Returns False if the ASP code has a wrong syntax and is not compiling\n",
    "        return False"
   ]
  },
  {
   "cell_type": "code",
   "execution_count": 8,
   "metadata": {},
   "outputs": [],
   "source": [
    "def solve_asp(file_path):\n",
    "    # Read the ASP code from the file\n",
    "    with open(file_path, 'r', encoding='utf-8') as file:\n",
    "        asp_code = file.read()\n",
    "\n",
    "    # Create a new clingo Control object\n",
    "    solver = clingo.Control()\n",
    "    \n",
    "    # Add the ASP code to the solver\n",
    "    solver.add(\"base\", [], asp_code)\n",
    "    \n",
    "    # Ground the program\n",
    "    solver.ground([(\"base\", [])])\n",
    "    \n",
    "    # Define the on_model function to print models\n",
    "    def on_model(model):\n",
    "        print(f\"Solution: {model}\")\n",
    "    \n",
    "    # Solve the ASP program, calling on_model for each solution\n",
    "    result = solver.solve(on_model=on_model)\n",
    "    \n",
    "    # Check if a solution exists\n",
    "    if result.satisfiable:\n",
    "        print(\"A solution exists.\")\n",
    "    else:\n",
    "        print(\"No solution exists.\")\n"
   ]
  },
  {
   "cell_type": "code",
   "execution_count": 14,
   "metadata": {},
   "outputs": [],
   "source": [
    "# copy_file_content(\"PaLM output.txt\", \"filtered asp code.txt\")"
   ]
  },
  {
   "cell_type": "code",
   "execution_count": 27,
   "metadata": {},
   "outputs": [
    {
     "name": "stdout",
     "output_type": "stream",
     "text": [
      "Filtered ASP code has been written to filtered asp code.txt\n"
     ]
    }
   ],
   "source": [
    "apply_filter_to_asp_code(\"PaLM output.txt\", \"filtered asp code.txt\")"
   ]
  },
  {
   "cell_type": "code",
   "execution_count": 11,
   "metadata": {},
   "outputs": [
    {
     "ename": "TypeError",
     "evalue": "filter expected 2 arguments, got 1",
     "output_type": "error",
     "traceback": [
      "\u001b[0;31m---------------------------------------------------------------------------\u001b[0m",
      "\u001b[0;31mTypeError\u001b[0m                                 Traceback (most recent call last)",
      "Cell \u001b[0;32mIn[11], line 2\u001b[0m\n\u001b[1;32m      1\u001b[0m \u001b[38;5;66;03m# Apply the filter function on the new file\u001b[39;00m\n\u001b[0;32m----> 2\u001b[0m \u001b[38;5;28;43mfilter\u001b[39;49m\u001b[43m(\u001b[49m\u001b[38;5;124;43m\"\u001b[39;49m\u001b[38;5;124;43mfiltered asp code.txt\u001b[39;49m\u001b[38;5;124;43m\"\u001b[39;49m\u001b[43m)\u001b[49m\n",
      "\u001b[0;31mTypeError\u001b[0m: filter expected 2 arguments, got 1"
     ]
    }
   ],
   "source": [
    "# Apply the filter function on the new file\n",
    "# filter(\"filtered asp code.txt\")"
   ]
  },
  {
   "cell_type": "code",
   "execution_count": 26,
   "metadata": {},
   "outputs": [
    {
     "name": "stderr",
     "output_type": "stream",
     "text": [
      "<block>:34927:43-44: error: syntax error, unexpected \",\"\n",
      "\n",
      "<block>:74630:135-136: error: syntax error, unexpected [\n",
      "\n",
      "<block>:74631:131-132: error: syntax error, unexpected [\n",
      "\n",
      "<block>:74632:133-134: error: syntax error, unexpected [\n",
      "\n",
      "<block>:74633:131-132: error: syntax error, unexpected [\n",
      "\n",
      "<block>:74634:125-126: error: syntax error, unexpected [\n",
      "\n"
     ]
    },
    {
     "ename": "RuntimeError",
     "evalue": "parsing failed",
     "output_type": "error",
     "traceback": [
      "\u001b[0;31m---------------------------------------------------------------------------\u001b[0m",
      "\u001b[0;31mRuntimeError\u001b[0m                              Traceback (most recent call last)",
      "Cell \u001b[0;32mIn[26], line 1\u001b[0m\n\u001b[0;32m----> 1\u001b[0m \u001b[43mclingo_compiling_check\u001b[49m\u001b[43m(\u001b[49m\u001b[38;5;124;43m\"\u001b[39;49m\u001b[38;5;124;43mfiltered asp code.txt\u001b[39;49m\u001b[38;5;124;43m\"\u001b[39;49m\u001b[43m)\u001b[49m\n",
      "Cell \u001b[0;32mIn[7], line 8\u001b[0m, in \u001b[0;36mclingo_compiling_check\u001b[0;34m(file)\u001b[0m\n\u001b[1;32m      6\u001b[0m     asp_code \u001b[38;5;241m=\u001b[39m f\u001b[38;5;241m.\u001b[39mread()\n\u001b[1;32m      7\u001b[0m \u001b[38;5;66;03m# Load ASP code\u001b[39;00m\n\u001b[0;32m----> 8\u001b[0m \u001b[43mprogram\u001b[49m\u001b[38;5;241;43m.\u001b[39;49m\u001b[43madd\u001b[49m\u001b[43m(\u001b[49m\u001b[38;5;124;43m'\u001b[39;49m\u001b[38;5;124;43mbase\u001b[39;49m\u001b[38;5;124;43m'\u001b[39;49m\u001b[43m,\u001b[49m\u001b[43m \u001b[49m\u001b[43m[\u001b[49m\u001b[43m]\u001b[49m\u001b[43m,\u001b[49m\u001b[43m \u001b[49m\u001b[43masp_code\u001b[49m\u001b[43m)\u001b[49m\n\u001b[1;32m      9\u001b[0m \u001b[38;5;66;03m# Compiling and solving\u001b[39;00m\n\u001b[1;32m     10\u001b[0m \u001b[38;5;28;01mtry\u001b[39;00m:\n",
      "File \u001b[0;32m~/Library/Python/3.9/lib/python/site-packages/clingo/control.py:307\u001b[0m, in \u001b[0;36mControl.add\u001b[0;34m(self, *args, **kwargs)\u001b[0m\n\u001b[1;32m    305\u001b[0m     \u001b[38;5;28mself\u001b[39m\u001b[38;5;241m.\u001b[39m_add1(\u001b[38;5;241m*\u001b[39margs, \u001b[38;5;241m*\u001b[39m\u001b[38;5;241m*\u001b[39mkwargs)\n\u001b[1;32m    306\u001b[0m \u001b[38;5;28;01melse\u001b[39;00m:\n\u001b[0;32m--> 307\u001b[0m     \u001b[38;5;28;43mself\u001b[39;49m\u001b[38;5;241;43m.\u001b[39;49m\u001b[43m_add2\u001b[49m\u001b[43m(\u001b[49m\u001b[38;5;241;43m*\u001b[39;49m\u001b[43margs\u001b[49m\u001b[43m,\u001b[49m\u001b[43m \u001b[49m\u001b[38;5;241;43m*\u001b[39;49m\u001b[38;5;241;43m*\u001b[39;49m\u001b[43mkwargs\u001b[49m\u001b[43m)\u001b[49m\n",
      "File \u001b[0;32m~/Library/Python/3.9/lib/python/site-packages/clingo/control.py:318\u001b[0m, in \u001b[0;36mControl._add2\u001b[0;34m(self, name, parameters, program)\u001b[0m\n\u001b[1;32m    316\u001b[0m     c_mem\u001b[38;5;241m.\u001b[39mappend(_ffi\u001b[38;5;241m.\u001b[39mnew(\u001b[38;5;124m\"\u001b[39m\u001b[38;5;124mchar[]\u001b[39m\u001b[38;5;124m\"\u001b[39m, param\u001b[38;5;241m.\u001b[39mencode()))\n\u001b[1;32m    317\u001b[0m     c_params[i] \u001b[38;5;241m=\u001b[39m c_mem[\u001b[38;5;241m-\u001b[39m\u001b[38;5;241m1\u001b[39m]\n\u001b[0;32m--> 318\u001b[0m \u001b[43m_handle_error\u001b[49m\u001b[43m(\u001b[49m\n\u001b[1;32m    319\u001b[0m \u001b[43m    \u001b[49m\u001b[43m_lib\u001b[49m\u001b[38;5;241;43m.\u001b[39;49m\u001b[43mclingo_control_add\u001b[49m\u001b[43m(\u001b[49m\n\u001b[1;32m    320\u001b[0m \u001b[43m        \u001b[49m\u001b[38;5;28;43mself\u001b[39;49m\u001b[38;5;241;43m.\u001b[39;49m\u001b[43m_rep\u001b[49m\u001b[43m,\u001b[49m\u001b[43m \u001b[49m\u001b[43mname\u001b[49m\u001b[38;5;241;43m.\u001b[39;49m\u001b[43mencode\u001b[49m\u001b[43m(\u001b[49m\u001b[43m)\u001b[49m\u001b[43m,\u001b[49m\u001b[43m \u001b[49m\u001b[43mc_params\u001b[49m\u001b[43m,\u001b[49m\u001b[43m \u001b[49m\u001b[38;5;28;43mlen\u001b[39;49m\u001b[43m(\u001b[49m\u001b[43mparameters\u001b[49m\u001b[43m)\u001b[49m\u001b[43m,\u001b[49m\u001b[43m \u001b[49m\u001b[43mprogram\u001b[49m\u001b[38;5;241;43m.\u001b[39;49m\u001b[43mencode\u001b[49m\u001b[43m(\u001b[49m\u001b[43m)\u001b[49m\n\u001b[1;32m    321\u001b[0m \u001b[43m    \u001b[49m\u001b[43m)\u001b[49m\n\u001b[1;32m    322\u001b[0m \u001b[43m\u001b[49m\u001b[43m)\u001b[49m\n",
      "File \u001b[0;32m~/Library/Python/3.9/lib/python/site-packages/clingo/_internal.py:75\u001b[0m, in \u001b[0;36m_handle_error\u001b[0;34m(ret, handler)\u001b[0m\n\u001b[1;32m     73\u001b[0m \u001b[38;5;28;01mif\u001b[39;00m code \u001b[38;5;241m==\u001b[39m _lib\u001b[38;5;241m.\u001b[39mclingo_error_bad_alloc:\n\u001b[1;32m     74\u001b[0m     \u001b[38;5;28;01mraise\u001b[39;00m \u001b[38;5;167;01mMemoryError\u001b[39;00m(msg)\n\u001b[0;32m---> 75\u001b[0m \u001b[38;5;28;01mraise\u001b[39;00m \u001b[38;5;167;01mRuntimeError\u001b[39;00m(msg)\n",
      "\u001b[0;31mRuntimeError\u001b[0m: parsing failed"
     ]
    }
   ],
   "source": [
    "clingo_compiling_check(\"filtered asp code.txt\")"
   ]
  },
  {
   "cell_type": "code",
   "execution_count": 17,
   "metadata": {},
   "outputs": [
    {
     "name": "stdout",
     "output_type": "stream",
     "text": [
      "Solution: pos(pc,thousand_and_eighty_p) pos(pc,sixty_fps) pos(pc,choice_of_hardware_parts) pos(pc,not_made_by_single_company) pos(pc,can_stream_to_nvidia_shield) pos(pc,can_be_hooked_up_to_tv) pos(pc,can_be_used_with_a_controller) pos(pc,can_open_big_picture) pos(pc,can_browse_the_web) pos(pc,can_open_all_of_your_steam_games) pos(pc,no_disc) pos(video_games,story_telling) pos(video_games,control) pos(video_games,choices) pos(video_games,player_created_stories) pos(planetside_two,stories) pos(planetside_two,tension) pos(planetside_two,connection) pos(vegetarian,animals) pos(vegan,animals) pos(hunting,food) pos(farm,animals) pos(gun_control,stance) pos(gun_ownership,second_amendment) pos(hillary,first_woman_president) pos(rubio,first_latino_president) pos(rubio,young) pos(rubio,new) pos(rubio,fresh) pos(rubio,gop_version) pos(rubio,youth_driven_obamamania) pos(rubio,two_thousand_and_eight) pos(successful_people,troubled_beginnings) pos(troubled_beginnings,death_of_a_parent) pos(troubled_beginnings,neglect) pos(troubled_beginnings,abuse) pos(troubled_beginnings,terrible_parenting) pos(troubled_beginnings,overly_pushing_parenting) pos(successful_people,wealth) pos(successful_people,celebrity) pos(successful_people,power) pos(steve_jobs,troubled_beginnings) pos(oprah_winfrey,troubled_beginnings) pos(kate_beckinsale,troubled_beginnings) pos(jim_carrey,troubled_beginnings) pos(charlize_theron,troubled_beginnings) pos(john_lennon,troubled_beginnings) pos(michael_jackson,troubled_beginnings) pos(kurt_cobain,troubled_beginnings) pos(eminem,troubled_beginnings) pos(eddie_vedder,troubled_beginnings) pos(professional_athletes,troubled_beginnings) pos(peaceful_life,non_trauma_filled_life) pos(successful_people,peaceful_life) pos(successful_people,non_trauma_filled_life) pos(extreme_childhood_hardship,motivation) pos(normal_childhood,education) pos(normal_childhood,find_your_way) pos(deprivation,understanding) pos(deprivation,preciousness_of_life) pos(political_process,resist_tyranny) pos(legal_process,resist_tyranny) pos(citizenship_process,patience) pos(citizenship_process,strength) pos(citizenship_process,will) pos(citizenship_process,heart) pos(citizenship_process,arduous) pos(citizenship_process,control) pos(citizenship_process,flow) pos(citizenship_process,immigrants) pos(citizenship_process,america) pos(citizenship_process,reward) pos(citizenship_process,earned) pos(citizenship_process,line) pos(citizenship_process,ice_cream_cone) pos(citizenship_process,vendor) pos(citizenship_process,law_abiding) pos(citizenship_process,tax_paying) pos(citizenship_process,illegal_immigrants) pos(citizenship_process,lives) pos(citizenship_process,children) pos(citizenship_process,families) pos(part_time_employment,people) pos(speed_limits,safety) pos(speed_limits,reaction_time) pos(speed_limits,car_safety) pos(speed_limits,time_to_make_decisions) pos(speed_limits,preventing_fatal_accidents) pos(speed_limits,ensuring_safety) pos(speed_limits,reducing_accidents) pos(speed_limits,preventing_people_from_driving_fast_enough_to_kill_themselves) pos(dubstep_music,real_music) pos(pop_music,people) pos(people,meaning) pos(people,relate) pos(dubstep,real_music) pos(dubstep,electronic_dance_music) pos(dubstep,south_london) pos(dubstep,two_step_garage) pos(dubstep,broken_beat) pos(dubstep,drum_and_bass) pos(dubstep,jungle) pos(dubstep,dub) pos(dubstep,reggae) pos(dubstep,jamaican_sound_system_party) pos(dubstep,syncopated_drum) pos(dubstep,percussion) pos(dubstep,bass_lines) pos(dubstep,sub_bass_frequencies) pos(dubstep,instrumental) pos(dubstep,london) pos(dubstep,syncopated_rhythm) pos(dubstep,bass) pos(dubstep,drum_elements) pos(dubstep,art) pos(dubstep,sound) pos(dubstep,time) pos(dubstep,ideas) pos(dubstep,emotions) pos(dubstep,rhythm) pos(dubstep,melody) pos(dubstep,harmony) pos(dubstep,color) pos(dubstep,science) pos(dubstep,tones) pos(dubstep,sounds) pos(dubstep,succession) pos(dubstep,combination) pos(dubstep,temporal_relationships) pos(dubstep,composition) pos(dubstep,unity) pos(dubstep,continuity) pos(dubstep,vocal) pos(dubstep,mechanical_sounds) pos(pop_music,meaning) pos(beethoven,classical_music) pos(taylor_swift,song_choices) pos(acdc,words) pos(taylor_swift,word_choice) pos(art,sound) pos(pop_music,musical_qualities) pos(voice,rhythm) pos(voice,frustration) pos(voice,discontent) pos(musician,scientist) pos(musician,businessman) pos(dan_swano,musician) pos(dan_swano,edge_of_sanity) pos(dan_swano,bloodbath) pos(dan_swano,katatonia) pos(dan_swano,nightingale) pos(dan_swano,sony_music_entertainment) pos(dan_swano,record_store) pos(dubstep,vocals) pos(dubstep,instrumentals) pos(dubstep,rhythms) pos(dubstep,melodies) pos(dubstep,hard_hitting_bass) pos(dubstep,choppy_vocals) pos(dubstep,money) pos(dubstep,happiness) pos(dubstep,enjoyment) pos(dubstep,break_up) pos(dubstep,loss_of_a_family_member) pos(dubstep,emotion) pos(dubstep,intent) pos(dubstep,message) pos(dubstep,idea) pos(dubstep,influence) pos(dubstep,authors_intent) pos(dubstep,musicians_intent) pos(dubstep,listeners_interpretation) pos(dubstep,subjective) pos(dubstep,objective) pos(dubstep,contradiction) pos(dubstep,lyrics) pos(dubstep,musician) pos(golf,sport) pos(golf,entertainment) pos(golf,interesting) pos(golf,love) pos(hogwarts,flying) pos(hogwarts,teleporting) pos(golf,swing) pos(golf,stance) pos(netflix,incredible_shows) pos(netflix,teen_classics) pos(netflix,lgbt_movies) pos(netflix,kids_shows) pos(netflix,netflix_originals) pos(netflix,fuller_house) pos(netflix,stranger_things) pos(netflix,interesting_stories) pos(youtube,youtube_red_shows) pos(youtube,comedy) pos(youtube,nigahiga) pos(youtube,smosh) pos(youtube,funny_stories) neg(video_games,other_methods) neg(animals,suffer) neg(gun_control,high_tension) neg(gun_ownership,mass_shooting) neg(gun_ownership,colonial_times) neg(gun_ownership,semi_automatic_handgun) neg(hillary,old) neg(hillary,celebrity_candidate) neg(hillary,nineties) neg(armed_population,resist_tyranny) neg(police,resist_tyranny) neg(government_agencies,resist_tyranny) neg(millitary,resist_tyranny) neg(organized_militia,resist_tyranny) neg(fear_of_tyranny,levels_of_actual_tyranny) neg(gun_nuts,resist_having_their_toys_taken) neg(citizenship_process,everyone) neg(citizenship_process,easy) neg(citizenship_process,quick) neg(citizenship_process,influx) neg(citizenship_process,country) neg(citizenship_process,handle) neg(citizenship_process,bypass) neg(citizenship_process,deserve) neg(citizenship_process,steal) neg(citizenship_process,return) neg(citizenship_process,home_country) neg(citizenship_process,deporting) neg(citizenship_process,parents) neg(citizenship_process,families) neg(citizenship_process,children) neg(citizenship_process,blame) neg(part_time_employees,employee_benefits) neg(employers,employee_benefits) neg(kim_jong_un,human_rights) neg(nk,human_rights) neg(nk,economic_policies) neg(nk,poverty) neg(speeding,safety) neg(speeding,reaction_time) neg(speeding,car_safety) neg(speeding,time_to_make_decisions) neg(speeding,preventing_fatal_accidents) neg(speeding,ensuring_safety) neg(speeding,reducing_accidents) neg(speeding,preventing_people_from_driving_fast_enough_to_kill_themselves) neg(dubstep_music,real_music) neg(pop_music,fun) neg(pop_music,groovy) neg(pop_music,art) neg(music,art) neg(musician,artist) neg(musician,fine_art) neg(musician,bachelor_of_fine_arts) neg(musician,job) neg(musician,choice) neg(musician,multiple_jobs) neg(musician,living) neg(dubstep,significant_forms) neg(dubstep,ideas) neg(dubstep,emotions) neg(dubstep,strong_message) neg(golf,boring) neg(golf,walking) neg(youtube,incredible_shows) neg(youtube,teen_classics) neg(youtube,lgbt_movies) neg(youtube,kids_shows) neg(youtube,netflix_originals) neg(youtube,fuller_house) neg(youtube,stranger_things) neg(youtube,interesting_stories) neg(netflix,comedy) neg(netflix,nigahiga) neg(netflix,smosh) neg(netflix,funny_stories) compare(successful_people,deprivation,normal_childhood) compare(successful_people,extreme_childhood_hardship,normal_childhood) relation(pc,console) relation(pc,steam) relation(pc,origin) relation(pc,gog_dot_com) relation(pc,uplay) relation(pc,nvidia_shield) relation(pc,tv) relation(pc,controller) relation(video_games,books) relation(video_games,tv) relation(video_games,movies) relation(video_games,theatre) relation(video_games,mass_effect) relation(video_games,arrow) relation(video_games,planetside_two) relation(animals,life) relation(animals,death) relation(animals,human) relation(animals,food) relation(animals,hunting) relation(animals,farm) relation(gun_control,gun_ownership) relation(second_amendment,gun_ownership) relation(mass_shooting,gun_ownership) relation(colonial_times,gun_ownership) relation(semi_automatic_handgun,gun_ownership) relation(hillary,first_woman_president) relation(rubio,first_latino_president) relation(hillary,old) relation(rubio,young) relation(hillary,celebrity_candidate) relation(hillary,nineties) relation(rubio,new) relation(rubio,fresh) relation(rubio,gop_version) relation(rubio,youth_driven_obamamania) relation(rubio,two_thousand_and_eight) relation(successful_people,troubled_beginnings) relation(steve_jobs,troubled_beginnings) relation(oprah_winfrey,troubled_beginnings) relation(kate_beckinsale,troubled_beginnings) relation(jim_carrey,troubled_beginnings) relation(charlize_theron,troubled_beginnings) relation(john_lennon,troubled_beginnings) relation(michael_jackson,troubled_beginnings) relation(kurt_cobain,troubled_beginnings) relation(eminem,troubled_beginnings) relation(eddie_vedder,troubled_beginnings) relation(professional_athletes,troubled_beginnings) relation(peaceful_life,non_trauma_filled_life) relation(successful_people,peaceful_life) relation(successful_people,non_trauma_filled_life) relation(extreme_childhood_hardship,motivation) relation(normal_childhood,education) relation(normal_childhood,find_your_way) relation(deprivation,understanding) relation(deprivation,preciousness_of_life) relation(armed_population,resist_tyranny) relation(police,resist_tyranny) relation(government_agencies,resist_tyranny) relation(millitary,resist_tyranny) relation(organized_militia,resist_tyranny) relation(political_process,resist_tyranny) relation(legal_process,resist_tyranny) relation(fear_of_tyranny,levels_of_actual_tyranny) relation(gun_nuts,resist_having_their_toys_taken) relation(citizenship_process,immigrants) relation(citizenship_process,america) relation(citizenship_process,children) relation(citizenship_process,families) relation(citizenship_process,parents) relation(citizenship_process,law_abiding) relation(citizenship_process,tax_paying) relation(citizenship_process,illegal_immigrants) relation(citizenship_process,lives) relation(citizenship_process,blame) relation(part_time_employees,employers) relation(part_time_employment,employers) relation(part_time_employment,people) relation(kim_jong_un,nk) relation(nk,poverty) relation(speed_limits,safety) relation(speed_limits,reaction_time) relation(speed_limits,car_safety) relation(speed_limits,time_to_make_decisions) relation(speed_limits,preventing_fatal_accidents) relation(speed_limits,ensuring_safety) relation(speed_limits,reducing_accidents) relation(speed_limits,preventing_people_from_driving_fast_enough_to_kill_themselves) relation(speeding,safety) relation(speeding,reaction_time) relation(speeding,car_safety) relation(speeding,time_to_make_decisions) relation(speeding,preventing_fatal_accidents) relation(speeding,ensuring_safety) relation(speeding,reducing_accidents) relation(speeding,preventing_people_from_driving_fast_enough_to_kill_themselves) relation(dubstep_music,real_music) relation(pop_music,real_music) relation(people,pop_music) relation(people,meaning) relation(people,relate) relation(dubstep,real_music) relation(dubstep,electronic_dance_music) relation(dubstep,south_london) relation(dubstep,two_step_garage) relation(dubstep,broken_beat) relation(dubstep,drum_and_bass) relation(dubstep,jungle) relation(dubstep,dub) relation(dubstep,reggae) relation(dubstep,jamaican_sound_system_party) relation(dubstep,syncopated_drum) relation(dubstep,percussion) relation(dubstep,bass_lines) relation(dubstep,sub_bass_frequencies) relation(dubstep,instrumental) relation(dubstep,london) relation(dubstep,syncopated_rhythm) relation(dubstep,bass) relation(dubstep,drum_elements) relation(dubstep,art) relation(dubstep,sound) relation(dubstep,time) relation(dubstep,ideas) relation(dubstep,emotions) relation(dubstep,rhythm) relation(dubstep,melody) relation(dubstep,harmony) relation(dubstep,color) relation(dubstep,science) relation(dubstep,tones) relation(dubstep,sounds) relation(dubstep,succession) relation(dubstep,combination) relation(dubstep,temporal_relationships) relation(dubstep,composition) relation(dubstep,unity) relation(dubstep,continuity) relation(dubstep,vocal) relation(dubstep,mechanical_sounds) relation(pop_music,music) relation(beethoven,music) relation(taylor_swift,music) relation(acdc,music) relation(taylor_swift,song_choices) relation(taylor_swift,word_choice) relation(art,music) relation(music,sound) relation(voice,human) relation(voice,pain) relation(voice,tempo) relation(voice,signature) relation(voice,rhythm) relation(rhythm,grunt) relation(rhythm,second) relation(rhythm,line) relation(rhythm,time) relation(rhythm,slow) relation(university,degree) relation(university,music) relation(university,science) relation(university,business_administration) relation(university,fine_arts) relation(university,coursework) relation(university,bachelor) relation(job,human) relation(job,living) relation(dan_swano,record) relation(dan_swano,edge_of_sanity) relation(dan_swano,bloodbath) relation(dan_swano,katatonia) relation(dan_swano,nightingale) relation(dan_swano,sony_music_entertainment) relation(dan_swano,record_store) relation(dubstep,music) relation(dubstep,vocals) relation(dubstep,instrumentals) relation(dubstep,rhythms) relation(dubstep,melodies) relation(dubstep,hard_hitting_bass) relation(dubstep,choppy_vocals) relation(dubstep,money) relation(dubstep,happiness) relation(dubstep,enjoyment) relation(dubstep,break_up) relation(dubstep,loss_of_a_family_member) relation(dubstep,emotion) relation(dubstep,intent) relation(dubstep,message) relation(dubstep,idea) relation(dubstep,influence) relation(dubstep,authors_intent) relation(dubstep,musicians_intent) relation(dubstep,listeners_interpretation) relation(dubstep,subjective) relation(dubstep,objective) relation(dubstep,contradiction) relation(dubstep,lyrics) relation(dubstep,musician) relation(golf,opinion) relation(golf,fact) relation(golf,knowledge) relation(golf,population) relation(golf,masters) relation(hogwarts,flying) relation(hogwarts,teleporting) relation(golf,swing) relation(golf,stance) relation(netflix,youtube) relation(netflix,youtube_red) relation(netflix,payment) relation(youtube,payment) relation(netflix,shows) relation(youtube,shows) relation(netflix,genres) relation(youtube,genres) relation(netflix,stories) relation(youtube,stories) relation(netflix,membership) relation(youtube,membership)\n",
      "A solution exists.\n"
     ]
    }
   ],
   "source": [
    "solve_asp(\"filtered asp code.txt\")"
   ]
  },
  {
   "cell_type": "code",
   "execution_count": null,
   "metadata": {},
   "outputs": [],
   "source": []
  }
 ],
 "metadata": {
  "kernelspec": {
   "display_name": "Python 3",
   "language": "python",
   "name": "python3"
  },
  "language_info": {
   "codemirror_mode": {
    "name": "ipython",
    "version": 3
   },
   "file_extension": ".py",
   "mimetype": "text/x-python",
   "name": "python",
   "nbconvert_exporter": "python",
   "pygments_lexer": "ipython3",
   "version": "3.9.6"
  }
 },
 "nbformat": 4,
 "nbformat_minor": 2
}
